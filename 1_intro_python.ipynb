{
 "cells": [
  {
   "cell_type": "markdown",
   "metadata": {},
   "source": [
    "## Day 1. Introducing Python Programming\n",
    "\n",
    "### Outcomes: \n",
    "By the end of this chapter you should be able to:\n",
    "\n",
    "* running the IDE to write Python programming code\n",
    "* write Python programs that display text on the screen; \n",
    "* join messages in output commands by using the concatenation (+) operator; \n",
    "* add comments to programs."
   ]
  },
  {
   "cell_type": "markdown",
   "metadata": {},
   "source": [
    "### 1.1 Softwares Requirement\n",
    "\n",
    "It is very common to compile and run your all programs by using these software:\n",
    "1. OS Windows7, Windows10, Linux and Mac OS\n",
    "2. Anaconda \n",
    "3. Jupyter\n",
    "\n",
    "#### Anaconda\n",
    "Download https://www.anaconda.com\n",
    "\n",
    "How to install :\n",
    "\n",
    "<a href=\"http://www.youtube.com/watch?feature=player_embedded&v=T3ff57rxTa8\n",
    "\" target=\"_blank\"><img src=\"http://img.youtube.com/vi/T3ff57rxTa8/0.jpg\" \n",
    "alt=\"Exeception Handling\" width=\"480\" height=\"360\" border=\"10\" /></a>\n",
    "\n",
    "https://www.youtube.com/watch?v=T3ff57rxTa8\n",
    "\n",
    "\n",
    "#### Jupyter\n",
    "1. How to run jupyter using anaconda : https://www.youtube.com/watch?v=OJMILWh6ARY\n",
    "\n",
    "<a href=\"http://www.youtube.com/watch?feature=player_embedded&v=OJMILWh6ARY\n",
    "\" target=\"_blank\"><img src=\"http://img.youtube.com/vi/OJMILWh6ARY/0.jpg\" \n",
    "alt=\"Exeception Handling\" width=\"480\" height=\"360\" border=\"10\" /></a>\n",
    "\n",
    "2. Quick introduction to Jupyter Notebook: https://www.youtube.com/watch?v=jZ952vChhuI\n",
    "\n",
    "<a href=\"http://www.youtube.com/watch?feature=player_embedded&v=jZ952vChhuI\n",
    "\" target=\"_blank\"><img src=\"http://img.youtube.com/vi/jZ952vChhuI/0.jpg\" \n",
    "alt=\"Exeception Handling\" width=\"480\" height=\"360\" border=\"10\" /></a>"
   ]
  },
  {
   "cell_type": "markdown",
   "metadata": {},
   "source": [
    "### 1.2 About Python Programming Language\n",
    "\n",
    "\n",
    "<a href=\"http://www.youtube.com/watch?feature=player_embedded&v=SsUF-7X3ehM\n",
    "\" target=\"_blank\"><img src=\"http://img.youtube.com/vi/SsUF-7X3ehM/0.jpg\" \n",
    "alt=\"Exeception Handling\" width=\"480\" height=\"360\" border=\"10\" /></a>\n",
    "\n"
   ]
  }
 ],
 "metadata": {
  "kernelspec": {
   "display_name": "Java",
   "language": "java",
   "name": "java"
  },
  "language_info": {
   "codemirror_mode": "text/x-java",
   "file_extension": ".java",
   "mimetype": "",
   "name": "Java",
   "nbconverter_exporter": "",
   "version": "1.8.0_121"
  },
  "toc": {
   "base_numbering": 1,
   "nav_menu": {},
   "number_sections": false,
   "sideBar": false,
   "skip_h1_title": false,
   "title_cell": "Table of Contents",
   "title_sidebar": "Contents",
   "toc_cell": false,
   "toc_position": {},
   "toc_section_display": false,
   "toc_window_display": false
  }
 },
 "nbformat": 4,
 "nbformat_minor": 2
}
